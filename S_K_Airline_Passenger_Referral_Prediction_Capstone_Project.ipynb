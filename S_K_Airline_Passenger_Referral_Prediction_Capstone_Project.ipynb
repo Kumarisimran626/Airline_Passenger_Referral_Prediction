{
  "nbformat": 4,
  "nbformat_minor": 0,
  "metadata": {
    "colab": {
      "provenance": [],
      "authorship_tag": "ABX9TyOyvADidGcMB9lkQvRonsYS",
      "include_colab_link": true
    },
    "kernelspec": {
      "name": "python3",
      "display_name": "Python 3"
    },
    "language_info": {
      "name": "python"
    }
  },
  "cells": [
    {
      "cell_type": "markdown",
      "metadata": {
        "id": "view-in-github",
        "colab_type": "text"
      },
      "source": [
        "<a href=\"https://colab.research.google.com/github/Kumarisimran626/Airline_Passenger_Referral_Prediction/blob/main/S_K_Airline_Passenger_Referral_Prediction_Capstone_Project.ipynb\" target=\"_parent\"><img src=\"https://colab.research.google.com/assets/colab-badge.svg\" alt=\"Open In Colab\"/></a>"
      ]
    },
    {
      "cell_type": "markdown",
      "source": [
        "# <b> <u>Project-Title : Airline Passenger Refferal Prediction</u></b>\n"
      ],
      "metadata": {
        "id": "bSxgJ1gbpZ0u"
      }
    },
    {
      "cell_type": "markdown",
      "source": [
        "#<b/>Project Type - Classification</b>\n",
        "\n",
        "\n",
        "#<b/>Contribution - Individual</b>\n",
        "\n",
        "### <b/>Name - Simran Kumari</b>"
      ],
      "metadata": {
        "id": "qKycxCM9puwO"
      }
    },
    {
      "cell_type": "markdown",
      "source": [
        "#<b/>Project Summary -</b>"
      ],
      "metadata": {
        "id": "7jvDCIB2qq4_"
      }
    },
    {
      "cell_type": "markdown",
      "source": [
        "###<b/>Feature Description</b>\n",
        "\n",
        "* airline: Name of the airline.\n",
        "\n",
        "* overall: Overall point is given to the trip between 1 to 10.\n",
        "\n",
        "* author: Author of the trip\n",
        "\n",
        "* reviewdate: Date of the Review\n",
        "\n",
        "* customer review: Review of the customers in free text format\n",
        "\n",
        "* aircraft: Type of the aircraft\n",
        "\n",
        "* traveller type: Type of traveler (e.g. business, leisure)\n",
        "\n",
        "* cabin: Cabin at the flight\n",
        "\n",
        "* date flown: Flight date\n",
        "\n",
        "* seat comfort: Rated between 1-5\n",
        "\n",
        "* cabin service: Rated between 1-5\n",
        "\n",
        "* food bev: Rated between 1-5\n",
        "\n",
        "* entertainment: Rated between 1-5\n",
        "\n",
        "* ground service: Rated between 1-5\n",
        "\n",
        "* value for money: Rated between 1-5"
      ],
      "metadata": {
        "id": "12zrbGMeMgGn"
      }
    },
    {
      "cell_type": "markdown",
      "source": [
        "#<b/>GitHub Link-"
      ],
      "metadata": {
        "id": "ukqeYr3BqxHo"
      }
    },
    {
      "cell_type": "markdown",
      "source": [
        "# <b/>Problem Statement-</b>\n",
        "\n",
        "## **Data includes airline reviews from 2006 to 2019 for popular airlines around the world with multiple choice and free text questions. Data is scraped in Spring 2019. The main objective is to predict whether passengers will refer the airline to their friends.**"
      ],
      "metadata": {
        "id": "dFW2B8NLGGac"
      }
    },
    {
      "cell_type": "markdown",
      "source": [
        "#<b/>Objective</b>"
      ],
      "metadata": {
        "id": "KxzP9kE-rW5i"
      }
    },
    {
      "cell_type": "markdown",
      "source": [
        "#<b/>Let's Begin!</b>"
      ],
      "metadata": {
        "id": "sxUGjLv4O82v"
      }
    },
    {
      "cell_type": "markdown",
      "source": [
        "# <b> <u>Importing Essential libraries</u></b>\n"
      ],
      "metadata": {
        "id": "6b38dfRaNfD9"
      }
    },
    {
      "cell_type": "code",
      "execution_count": 1,
      "metadata": {
        "id": "s1QQpn1NBZ3H"
      },
      "outputs": [],
      "source": [
        "#Importing all the library\n",
        "\n",
        "import numpy as np\n",
        "import pandas as pd\n",
        "from numpy import math\n",
        "\n",
        "#Importing libraries for Data Visulization\n",
        "import seaborn as sns\n",
        "import matplotlib.pyplot as plt\n",
        "%matplotlib inline\n",
        "import warnings\n",
        "warnings.filterwarnings('ignore')\n",
        "\n",
        "from statsmodels.stats.outliers_influence import variance_inflation_factor\n",
        "from sklearn.model_selection import train_test_split\n",
        "from sklearn.model_selection import GridSearchCV\n",
        "#Importing the models\n",
        "from sklearn.linear_model import LogisticRegression\n",
        "from sklearn.ensemble import RandomForestClassifier\n",
        "from sklearn.neighbors import KNeighborsClassifier\n",
        "import xgboost as xgb\n",
        "\n",
        "\n",
        "# Importing  metrics for evaluation for our models\n",
        "from sklearn import metrics\n",
        "from sklearn.metrics import confusion_matrix\n",
        "from sklearn.metrics import accuracy_score\n",
        "from sklearn.metrics import precision_score\n",
        "from sklearn.metrics import recall_score\n",
        "from sklearn.metrics import f1_score\n",
        "from sklearn.metrics import roc_auc_score\n",
        "from sklearn.metrics import roc_curve\n",
        "from sklearn.metrics import auc\n",
        "\n",
        "#ignore warnings\n",
        "import warnings\n",
        "warnings.filterwarnings('ignore')"
      ]
    },
    {
      "cell_type": "markdown",
      "source": [
        "#<b/>Dataset Loading</b>"
      ],
      "metadata": {
        "id": "uzLBVL5jPfs5"
      }
    },
    {
      "cell_type": "code",
      "source": [
        "from google.colab import drive\n",
        "drive.mount('/content/drive')"
      ],
      "metadata": {
        "colab": {
          "base_uri": "https://localhost:8080/"
        },
        "id": "vxue6D97sqB1",
        "outputId": "770dc0c8-b501-4e0a-caec-358f503ca607"
      },
      "execution_count": 2,
      "outputs": [
        {
          "output_type": "stream",
          "name": "stdout",
          "text": [
            "Mounted at /content/drive\n"
          ]
        }
      ]
    },
    {
      "cell_type": "code",
      "source": [
        "airline_df = pd.read_excel('/content/drive/MyDrive/data_airline_reviews.xlsx')"
      ],
      "metadata": {
        "id": "TjqqAlQPCPxl"
      },
      "execution_count": 3,
      "outputs": []
    }
  ]
}